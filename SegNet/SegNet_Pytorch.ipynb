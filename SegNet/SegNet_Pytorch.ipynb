{
 "cells": [
  {
   "cell_type": "code",
   "execution_count": 62,
   "metadata": {},
   "outputs": [],
   "source": [
    "#importing required libraries\n",
    "from __future__ import print_function\n",
    "import torch\n",
    "import torch.nn as nn\n",
    "import torch.nn.parallel\n",
    "import torch.optim as optim\n",
    "import torch.utils.data\n",
    "import torchvision.datasets as dset\n",
    "import torchvision.transforms as transforms\n",
    "import torchvision.utils as vutils\n",
    "import torch.nn.functional as F\n",
    "from torch.autograd import Variable"
   ]
  },
  {
   "cell_type": "markdown",
   "metadata": {},
   "source": [
    "[!img]segnet.png"
   ]
  },
  {
   "cell_type": "code",
   "execution_count": 99,
   "metadata": {},
   "outputs": [],
   "source": [
    "class SegNet(nn.Module):\n",
    "    def __init__(self):\n",
    "        super(SegNet, self).__init__()\n",
    "        self.conv1 = nn.Conv2d(3, 64, kernel_size=3, padding=1)\n",
    "        self.bn1 = nn.BatchNorm2d(64)\n",
    "        self.relu1 = nn.ReLU(inplace=True)\n",
    "        self.conv2 = nn.Conv2d(64,64, kernel_size=3, padding=1)\n",
    "                \n",
    "        self.conv3 = nn.Conv2d(64,128, kernel_size=3, padding=1)\n",
    "        self.bn2 = nn.BatchNorm2d(128)\n",
    "        \n",
    "        self.conv4 = nn.Conv2d(128,128, kernel_size=3, padding=1)\n",
    "        \n",
    "        self.conv5 = nn.Conv2d(128,256, kernel_size=3, padding=1)\n",
    "        self.bn3 = nn.BatchNorm2d(256)\n",
    "        \n",
    "        self.conv6 = nn.Conv2d(256,256, kernel_size=3, padding=1)\n",
    "        \n",
    "        self.conv7 = nn.Conv2d(256,512, kernel_size=3, padding=1)\n",
    "        self.bn4 = nn.BatchNorm2d(512)\n",
    "        \n",
    "        self.conv8 = nn.Conv2d(512,512, kernel_size=3, padding=1)        \n",
    "        \n",
    "        self.upSample = nn.MaxUnpool2d(2, stride=2)\n",
    "      \n",
    "        self.decode1 = nn.Conv2d(512, 512, kernel_size=3, padding=1)\n",
    "        self.decode2 = nn.Conv2d(512, 256, kernel_size=3, padding=1)\n",
    "        self.dec_bn1 = nn.BatchNorm2d(512)\n",
    "        self.dec_relu = nn.ReLU(inplace=True)\n",
    "        \n",
    "        self.dec_bn2 = nn.BatchNorm2d(256)\n",
    "        \n",
    "        self.decode3 = nn.Conv2d(256, 256, kernel_size=3, padding=1)\n",
    "        self.decode4 = nn.Conv2d(256, 128, kernel_size=3, padding=1)\n",
    "        self.dec_bn3 = nn.BatchNorm2d(128)\n",
    "        \n",
    "        self.decode5 = nn.Conv2d(128, 128, kernel_size=3, padding=1)\n",
    "        self.decode6 = nn.Conv2d(128, 64, kernel_size=3, padding=1)\n",
    "        self.dec_bn4 = nn.BatchNorm2d(64)\n",
    "        self.decode7 = nn.Conv2d(64, 64, kernel_size=3, padding=1)\n",
    "        \n",
    "        self.decode8 = nn.Conv2d(64, 3, kernel_size=3, padding=1)\n",
    "        \n",
    "        \n",
    "    def forward(self, x):\n",
    "        out= self.conv1(x)\n",
    "        out = self.bn1(out)\n",
    "        out = self.relu(out)\n",
    "        out = self.conv2(out)\n",
    "        out = self.bn1(out)\n",
    "        out = self.relu(out)\n",
    "        x1p, id1 = F.max_pool2d(out,kernel_size=2, stride=2,return_indices=True)\n",
    "        \n",
    "        out = self.conv3(out)\n",
    "        out = self.bn2(out)\n",
    "        out = self.relu(out)\n",
    "        out = self.conv4(out)\n",
    "        out = self.bn2(out)\n",
    "        out = self.relu(out)\n",
    "        out = self.maxPool(out)\n",
    "        x2p, id2 = F.max_pool2d(out,kernel_size=2, stride=2,return_indices=True)\n",
    "                \n",
    "        out = self.conv5(out)\n",
    "        out = self.bn3(out)\n",
    "        out = self.relu(out)\n",
    "        out = self.conv6(out)\n",
    "        out = self.bn3(out)\n",
    "        out = self.relu(out)\n",
    "        out = self.conv6(out)\n",
    "        out = self.bn3(out)\n",
    "        out = self.relu(out)\n",
    "        x3p, id3 = F.max_pool2d(out,kernel_size=2, stride=2,return_indices=True)\n",
    "        \n",
    "        out = self.conv7(out)\n",
    "        out = self.bn4(out)\n",
    "        out = self.relu(out)\n",
    "        out = self.conv8(out)\n",
    "        out = self.bn4(out)\n",
    "        out = self.relu(out)\n",
    "        out = self.conv8(out)\n",
    "        out = self.bn4(out)\n",
    "        out = self.relu(out)\n",
    "        x4p, id4 = F.max_pool2d(out,kernel_size=2, stride=2,return_indices=True)\n",
    "        \n",
    "        out = self.conv8(out)\n",
    "        out = self.bn5(out)\n",
    "        out = self.relu(out)\n",
    "        out = self.conv8(out)\n",
    "        out = self.bn5(out)\n",
    "        out = self.relu(out)\n",
    "        out = self.conv8(out)\n",
    "        out = self.bn5(out)\n",
    "        out = self.relu(out)\n",
    "        x5p, id5 = F.max_pool2d(out,kernel_size=2, stride=2,return_indices=True)\n",
    "        \n",
    "        out = self.upSample(x5p, id5)\n",
    "        out = self.decode1(out)\n",
    "        out = self.dec_bn1(out)\n",
    "        out = self.dec_relu(out)\n",
    "        out = self.decode1(out)\n",
    "        out = self.dec_bn1(out)\n",
    "        out = self.dec_relu(out)\n",
    "        out = self.decode1(out)\n",
    "        out = self.dec_bn1(out)\n",
    "        out = self.dec_relu(out)\n",
    "        \n",
    "        out = self.upSample(out, id4)\n",
    "        out = self.decode1(out)\n",
    "        out = self.dec_bn1(out)\n",
    "        out = self.dec_relu(out)\n",
    "        out = self.decode1(out)\n",
    "        out = self.dec_bn1(out)\n",
    "        out = self.dec_relu(out)\n",
    "        out = self.decode2(out)\n",
    "        out = self.dec_bn2(out)\n",
    "        out = self.dec_relu(out)\n",
    "        \n",
    "        out = self.upSample(out, id3)\n",
    "        out = self.decode3(out)\n",
    "        out = self.dec_bn2(out)\n",
    "        out = self.dec_relu(out)\n",
    "        out = self.decode3(out)\n",
    "        out = self.dec_bn2(out)\n",
    "        out = self.dec_relu(out)\n",
    "        out = self.decode4(out)\n",
    "        out = self.dec_bn3(out)\n",
    "        out = self.dec_relu(out)\n",
    "        \n",
    "        out = self.upSample(out, id2)\n",
    "        out = self.decode5(out)\n",
    "        out = self.dec_bn3(out)\n",
    "        out = self.dec_relu(out)\n",
    "        out = self.decode6(out)\n",
    "        out = self.dec_bn4(out)\n",
    "        out = self.dec_relu(out)\n",
    "        \n",
    "        out = self.upSample(out, id1)\n",
    "        out = self.decode7(out)\n",
    "        out = self.dec_bn4(out)\n",
    "        out = self.dec_relu(out)\n",
    "        out = self.decode8(out)\n",
    "\n",
    "        return out"
   ]
  },
  {
   "cell_type": "code",
   "execution_count": 100,
   "metadata": {},
   "outputs": [],
   "source": [
    "model = SegNet()"
   ]
  },
  {
   "cell_type": "code",
   "execution_count": 103,
   "metadata": {},
   "outputs": [
    {
     "data": {
      "text/plain": [
       "SegNet(\n",
       "  (conv1): Conv2d(3, 64, kernel_size=(3, 3), stride=(1, 1), padding=(1, 1))\n",
       "  (bn1): BatchNorm2d(64, eps=1e-05, momentum=0.1, affine=True, track_running_stats=True)\n",
       "  (relu1): ReLU(inplace=True)\n",
       "  (conv2): Conv2d(64, 64, kernel_size=(3, 3), stride=(1, 1), padding=(1, 1))\n",
       "  (conv3): Conv2d(64, 128, kernel_size=(3, 3), stride=(1, 1), padding=(1, 1))\n",
       "  (bn2): BatchNorm2d(128, eps=1e-05, momentum=0.1, affine=True, track_running_stats=True)\n",
       "  (conv4): Conv2d(128, 128, kernel_size=(3, 3), stride=(1, 1), padding=(1, 1))\n",
       "  (conv5): Conv2d(128, 256, kernel_size=(3, 3), stride=(1, 1), padding=(1, 1))\n",
       "  (bn3): BatchNorm2d(256, eps=1e-05, momentum=0.1, affine=True, track_running_stats=True)\n",
       "  (conv6): Conv2d(256, 256, kernel_size=(3, 3), stride=(1, 1), padding=(1, 1))\n",
       "  (conv7): Conv2d(256, 512, kernel_size=(3, 3), stride=(1, 1), padding=(1, 1))\n",
       "  (bn4): BatchNorm2d(512, eps=1e-05, momentum=0.1, affine=True, track_running_stats=True)\n",
       "  (conv8): Conv2d(512, 512, kernel_size=(3, 3), stride=(1, 1), padding=(1, 1))\n",
       "  (upSample): MaxUnpool2d(kernel_size=(2, 2), stride=(2, 2), padding=(0, 0))\n",
       "  (decode1): Conv2d(512, 512, kernel_size=(3, 3), stride=(1, 1), padding=(1, 1))\n",
       "  (decode2): Conv2d(512, 256, kernel_size=(3, 3), stride=(1, 1), padding=(1, 1))\n",
       "  (dec_bn1): BatchNorm2d(512, eps=1e-05, momentum=0.1, affine=True, track_running_stats=True)\n",
       "  (dec_relu): ReLU(inplace=True)\n",
       "  (dec_bn2): BatchNorm2d(256, eps=1e-05, momentum=0.1, affine=True, track_running_stats=True)\n",
       "  (decode3): Conv2d(256, 256, kernel_size=(3, 3), stride=(1, 1), padding=(1, 1))\n",
       "  (decode4): Conv2d(256, 128, kernel_size=(3, 3), stride=(1, 1), padding=(1, 1))\n",
       "  (dec_bn3): BatchNorm2d(128, eps=1e-05, momentum=0.1, affine=True, track_running_stats=True)\n",
       "  (decode5): Conv2d(128, 128, kernel_size=(3, 3), stride=(1, 1), padding=(1, 1))\n",
       "  (decode6): Conv2d(128, 64, kernel_size=(3, 3), stride=(1, 1), padding=(1, 1))\n",
       "  (dec_bn4): BatchNorm2d(64, eps=1e-05, momentum=0.1, affine=True, track_running_stats=True)\n",
       "  (decode7): Conv2d(64, 64, kernel_size=(3, 3), stride=(1, 1), padding=(1, 1))\n",
       "  (decode8): Conv2d(64, 3, kernel_size=(3, 3), stride=(1, 1), padding=(1, 1))\n",
       ")"
      ]
     },
     "execution_count": 103,
     "metadata": {},
     "output_type": "execute_result"
    }
   ],
   "source": [
    "model"
   ]
  },
  {
   "cell_type": "code",
   "execution_count": 112,
   "metadata": {},
   "outputs": [],
   "source": [
    "criterion = nn.CrossEntropyLoss()\n",
    "optimizer = optim.SGD(model.parameters(), lr=0.001, momentum=0.9)\n",
    "\n",
    "import numpy as np\n",
    "import tqdm"
   ]
  },
  {
   "cell_type": "code",
   "execution_count": 113,
   "metadata": {},
   "outputs": [
    {
     "ename": "TypeError",
     "evalue": "'module' object is not callable",
     "output_type": "error",
     "traceback": [
      "\u001b[1;31m---------------------------------------------------------------------------\u001b[0m",
      "\u001b[1;31mTypeError\u001b[0m                                 Traceback (most recent call last)",
      "\u001b[1;32m<ipython-input-113-7921a151d908>\u001b[0m in \u001b[0;36m<module>\u001b[1;34m\u001b[0m\n\u001b[0;32m     18\u001b[0m \u001b[1;31m# iteration over the batches\u001b[0m\u001b[1;33m\u001b[0m\u001b[1;33m\u001b[0m\u001b[1;33m\u001b[0m\u001b[0m\n\u001b[0;32m     19\u001b[0m \u001b[0mbatches\u001b[0m \u001b[1;33m=\u001b[0m \u001b[1;33m[\u001b[0m\u001b[1;33m]\u001b[0m\u001b[1;33m\u001b[0m\u001b[1;33m\u001b[0m\u001b[0m\n\u001b[1;32m---> 20\u001b[1;33m \u001b[1;32mfor\u001b[0m \u001b[0mbatch_idx\u001b[0m\u001b[1;33m,\u001b[0m\u001b[0mbatch_files\u001b[0m \u001b[1;32min\u001b[0m \u001b[0menumerate\u001b[0m\u001b[1;33m(\u001b[0m\u001b[0mtqdm\u001b[0m\u001b[1;33m(\u001b[0m\u001b[0mbatches\u001b[0m\u001b[1;33m)\u001b[0m\u001b[1;33m)\u001b[0m\u001b[1;33m:\u001b[0m\u001b[1;33m\u001b[0m\u001b[1;33m\u001b[0m\u001b[0m\n\u001b[0m\u001b[0;32m     21\u001b[0m \u001b[1;33m\u001b[0m\u001b[0m\n\u001b[0;32m     22\u001b[0m     \u001b[1;31m# containers\u001b[0m\u001b[1;33m\u001b[0m\u001b[1;33m\u001b[0m\u001b[1;33m\u001b[0m\u001b[0m\n",
      "\u001b[1;31mTypeError\u001b[0m: 'module' object is not callable"
     ]
    }
   ],
   "source": [
    "model.train()\n",
    "\n",
    "# update learning rate\n",
    "lr = 0.001\n",
    "for param_group in optimizer.param_groups:\n",
    "    param_group['lr'] = lr\n",
    "\n",
    "# define a weighted loss (0 weight for 0 label)\n",
    "weights_list = [0]+[1 for i in range(17)]\n",
    "weights = np.asarray(weights_list)\n",
    "weigthtorch = torch.Tensor(weights_list)\n",
    "loss = nn.CrossEntropyLoss(weight=weigthtorch).cuda()\n",
    "\n",
    "\n",
    "\n",
    "total_loss = 0\n",
    "\n",
    "# iteration over the batches\n",
    "batches = []\n",
    "for batch_idx,batch_files in enumerate(tqdm(batches)):\n",
    "\n",
    "    # containers\n",
    "    batch = np.zeros((args.batch_size,input_nbr, imsize, imsize), dtype=float)\n",
    "    batch_labels = np.zeros((args.batch_size,imsize, imsize), dtype=int)\n",
    "\n",
    "    # fill the batch\n",
    "    # ...\n",
    "\n",
    "    batch_th = Variable(torch.Tensor(batch))\n",
    "    target_th = Variable(torch.LongTensor(batch_labels))\n",
    "\n",
    "    batch_th =batch_th.cuda()\n",
    "    target_th = target_th.cuda()\n",
    "\n",
    "    # initilize gradients\n",
    "    optimizer.zero_grad()\n",
    "\n",
    "    # predictions\n",
    "    output = model(batch_th)\n",
    "\n",
    "    # Loss\n",
    "    output = output.view(output.size(0),output.size(1), -1)\n",
    "    output = torch.transpose(output,1,2).contiguous()\n",
    "    output = output.view(-1,output.size(2))\n",
    "    target = target.view(-1)\n",
    "\n",
    "    l_ = loss(output.cuda(), target)\n",
    "    total_loss += l_.cpu().data.numpy()\n",
    "    l_.cuda()\n",
    "    l_.backward()\n",
    "    optimizer.step()"
   ]
  },
  {
   "cell_type": "code",
   "execution_count": null,
   "metadata": {},
   "outputs": [],
   "source": []
  },
  {
   "cell_type": "code",
   "execution_count": 80,
   "metadata": {},
   "outputs": [],
   "source": [
    "a= torch.rand([3,64,64])"
   ]
  },
  {
   "cell_type": "code",
   "execution_count": 82,
   "metadata": {},
   "outputs": [
    {
     "name": "stdout",
     "output_type": "stream",
     "text": [
      "torch.Size([3, 32, 32]) torch.Size([3, 32, 32])\n"
     ]
    }
   ],
   "source": [
    "c,b =F.max_pool2d(a,kernel_size=2, stride=2,return_indices=True)\n",
    "print(c.shape, b.shape)"
   ]
  },
  {
   "cell_type": "code",
   "execution_count": 90,
   "metadata": {},
   "outputs": [
    {
     "name": "stdout",
     "output_type": "stream",
     "text": [
      "torch.Size([1, 1, 4, 4])\n",
      "torch.Size([1, 1, 2, 2]) torch.Size([1, 1, 2, 2])\n",
      "torch.Size([1, 1, 4, 4])\n"
     ]
    }
   ],
   "source": [
    "pool = nn.MaxPool2d(2, stride=2, return_indices=True)\n",
    "\n",
    "uppool = nn.MaxUnpool2d(2, stride=2)\n",
    "\n",
    "a = torch.tensor([[[[ 1.,  2,  3,  4],\n",
    "                            [ 5,  6,  7,  8],\n",
    "                            [ 9, 10, 11, 12],\n",
    "                            [13, 14, 15, 16]]]])\n",
    "\n",
    "print(a.shape)\n",
    "output, indices = pool(a)\n",
    "print(output.shape, indices.shape)\n",
    "d=unpool(output, indices)\n",
    "print(d.shape)"
   ]
  },
  {
   "cell_type": "markdown",
   "metadata": {},
   "source": [
    "### Ongoing"
   ]
  },
  {
   "cell_type": "code",
   "execution_count": null,
   "metadata": {},
   "outputs": [],
   "source": []
  },
  {
   "cell_type": "code",
   "execution_count": null,
   "metadata": {},
   "outputs": [],
   "source": []
  },
  {
   "cell_type": "code",
   "execution_count": null,
   "metadata": {},
   "outputs": [],
   "source": []
  }
 ],
 "metadata": {
  "kernelspec": {
   "display_name": "Python 3",
   "language": "python",
   "name": "python3"
  },
  "language_info": {
   "codemirror_mode": {
    "name": "ipython",
    "version": 3
   },
   "file_extension": ".py",
   "mimetype": "text/x-python",
   "name": "python",
   "nbconvert_exporter": "python",
   "pygments_lexer": "ipython3",
   "version": "3.7.4"
  }
 },
 "nbformat": 4,
 "nbformat_minor": 2
}
