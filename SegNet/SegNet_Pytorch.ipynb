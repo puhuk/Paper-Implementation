{
 "cells": [
  {
   "cell_type": "code",
   "execution_count": 1,
   "metadata": {},
   "outputs": [],
   "source": [
    "#importing required libraries\n",
    "from __future__ import print_function\n",
    "import torch\n",
    "import torch.nn as nn\n",
    "import torch.nn.parallel\n",
    "import torch.optim as optim\n",
    "import torch.utils.data\n",
    "import torchvision.datasets as dset\n",
    "import torchvision.transforms as transforms\n",
    "import torchvision.utils as vutils\n",
    "from torch.autograd import Variable"
   ]
  },
  {
   "cell_type": "markdown",
   "metadata": {},
   "source": [
    "[!img]segnet.png"
   ]
  },
  {
   "cell_type": "code",
   "execution_count": null,
   "metadata": {},
   "outputs": [],
   "source": [
    "class SegNet(nn.Module):\n",
    "    def __init__(self):\n",
    "        super(SegNet, self).__init__()\n",
    "        self.conv1 = nn.Conv2d(3, 64, kernel_size=3, padding=1)\n",
    "        sefl.bn = nn.Conv2d(64)\n",
    "        self.conv2 = nn.Conv2d(64,64, kernel_size=3, padding=1)\n",
    "        \n",
    "        self.maxPool = nn.MaxPool2d(kernel_size=2, stride=2)\n",
    "        \n",
    "        self.conv3 = nn.Conv2d(64,128, kernel_size=3, padding=1)\n",
    "        #self.bn2 = nn.BatchNorm2d(128)\n",
    "        \n",
    "        self.conv4 = nn.Conv2d(128,128, kernel_size=3, padding=1)\n",
    "        \n",
    "        self.conv5 = nn.Conv2d(128,256, kernel_size=3, padding=1)\n",
    "        #self.bn3 = nn.BatchNorm2d(256)\n",
    "        \n",
    "        self.conv6 = nn.Conv2d(256,256, kernel_size=3, padding=1)\n",
    "        self.conv7 = nn.Conv2d(256,256, kernel_size=1, padding=0)\n",
    "        \n",
    "        self.conv8 = nn.Conv2d(256,512, kernel_size=3, padding=1)\n",
    "        #self.bn4 = nn.BatchNorm2d(512)\n",
    "        \n",
    "        self.conv9 = nn.Conv2d(512,512, kernel_size=3, padding=1)\n",
    "        self.conv10 = nn.Conv2d(512,512, kernel_size=1, padding=0)\n",
    "        \n",
    "        self.conv11 = nn.Conv2d(512,512, kernel_size=3, padding=1)\n",
    "        self.conv12 = nn.Conv2d(512,512, kernel_size=3, padding=1)\n",
    "        self.conv13 = nn.Conv2d(512,512, kernel_size=1, padding=0)\n",
    "        \n",
    "        self.linear1 = nn.Linear(512*7*7, 4096)\n",
    "        self.linear2 = nn.Linear(4096, 4096)\n",
    "        self.linear3 = nn.Linear(4096, num_classes)\n",
    "        \n",
    "    def forward(self, x):\n",
    "        out= self.conv1(x)\n",
    "        out = self.conv2(out)\n",
    "        out = self.conv2(out)\n",
    "        out = self.maxPool(out)\n",
    "        \n",
    "        out = self.conv3(out)\n",
    "        out = self.conv4(out)\n",
    "        out = self.maxPool(out)\n",
    "        \n",
    "        out = self.conv5(out)\n",
    "        out = self.conv6(out)\n",
    "        out = self.conv7(out)\n",
    "        out = self.maxPool(out)\n",
    "        \n",
    "        out = self.conv8(out)\n",
    "        out = self.conv9(out)\n",
    "        out = self.conv10(out)\n",
    "        out = self.maxPool(out)\n",
    "        \n",
    "        out = self.conv11(out)\n",
    "        out = self.conv12(out)\n",
    "        out = self.conv13(out)\n",
    "\n",
    "        out = self.maxPool(out)\n",
    "        \n",
    "        out = out.view(out.size(0),-1)\n",
    "        out = self.linear1(out)\n",
    "        out = self.linear2(out)\n",
    "        out = self.linear3(out)\n",
    "        \n",
    "        return out"
   ]
  },
  {
   "cell_type": "code",
   "execution_count": null,
   "metadata": {},
   "outputs": [],
   "source": []
  },
  {
   "cell_type": "markdown",
   "metadata": {},
   "source": [
    "### Ongoing"
   ]
  },
  {
   "cell_type": "code",
   "execution_count": null,
   "metadata": {},
   "outputs": [],
   "source": []
  },
  {
   "cell_type": "code",
   "execution_count": null,
   "metadata": {},
   "outputs": [],
   "source": []
  },
  {
   "cell_type": "code",
   "execution_count": null,
   "metadata": {},
   "outputs": [],
   "source": []
  }
 ],
 "metadata": {
  "kernelspec": {
   "display_name": "Python 3",
   "language": "python",
   "name": "python3"
  },
  "language_info": {
   "codemirror_mode": {
    "name": "ipython",
    "version": 3
   },
   "file_extension": ".py",
   "mimetype": "text/x-python",
   "name": "python",
   "nbconvert_exporter": "python",
   "pygments_lexer": "ipython3",
   "version": "3.7.4"
  }
 },
 "nbformat": 4,
 "nbformat_minor": 2
}
